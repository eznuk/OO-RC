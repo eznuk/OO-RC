{
 "cells": [
  {
   "cell_type": "markdown",
   "metadata": {},
   "source": [
    "## Modifiziere die folgende Klasse so, dass sie\n",
    "\n",
    "- auch die Attribute Wurf-Präzision <code>precision</code> und Wurfgeschwindigkeit <code>speed</code> hat und diese beim Initialisieren des Objekts gesetzt werden,\n",
    "- eine Methode <code>print_info</code> hat, die alle Infos des Spielenden ausgibt. "
   ]
  },
  {
   "cell_type": "code",
   "execution_count": null,
   "metadata": {},
   "outputs": [],
   "source": [
    "class player():\n",
    "    def __init__(self, name):\n",
    "        self.name = name\n",
    "    def say_name(self):\n",
    "        print(f\"Ich heiße {self.name}!\")"
   ]
  },
  {
   "cell_type": "code",
   "execution_count": null,
   "metadata": {},
   "outputs": [],
   "source": [
    "# Überprüfen der Funktionalität:\n",
    "p1 = player(name=\"p1\", precision=0.9, speed=0.8)\n",
    "p1.print_info()"
   ]
  }
 ],
 "metadata": {
  "kernelspec": {
   "display_name": "Python 3",
   "language": "python",
   "name": "python3"
  },
  "language_info": {
   "codemirror_mode": {
    "name": "ipython",
    "version": 3
   },
   "file_extension": ".py",
   "mimetype": "text/x-python",
   "name": "python",
   "nbconvert_exporter": "python",
   "pygments_lexer": "ipython3",
   "version": "3.7.6"
  }
 },
 "nbformat": 4,
 "nbformat_minor": 4
}
