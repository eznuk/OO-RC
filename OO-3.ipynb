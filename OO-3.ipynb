{
 "cells": [
  {
   "cell_type": "markdown",
   "metadata": {},
   "source": [
    "## Modifiziere die Klasse <code>player</code> so, dass sie\n",
    "- ein Attribut drink_hist hat, das mit [ ] initalisiert wird\n",
    "- am Ende eines jeden Zeitschritts diese Liste mit .append(...) einen neuen Eintrag bekommt, der den bisher getrunkenen Getränken entspricht"
   ]
  },
  {
   "cell_type": "code",
   "execution_count": null,
   "metadata": {},
   "outputs": [],
   "source": [
    "import numpy as np"
   ]
  },
  {
   "cell_type": "code",
   "execution_count": null,
   "metadata": {},
   "outputs": [],
   "source": [
    "class player():\n",
    "    def __init__(self, name, precision, speed, stat_msg):\n",
    "        self.name = name\n",
    "        self.precision = precision\n",
    "        self.speed = speed\n",
    "        self.stat_msg = stat_msg\n",
    "        self.tries = 0\n",
    "        self.num_balls = 0\n",
    "        self.ndrinks = 0\n",
    "        self.wait = 0\n",
    "    def say_name(self):\n",
    "        print(f\"Ich heiße {self.name}!\")\n",
    "    def print_info(self):\n",
    "        print(f\"Ich heiße {self.name}, habe die Präzision {self.precision:.2f} \"\n",
    "              + f\"und die Geschwindigkeit {self.speed:.2f}.\")\n",
    "    def getting_ball(self):\n",
    "        self.num_balls += 1\n",
    "        self.wait = 1\n",
    "    def drink(self):\n",
    "        if self.stat_msg: print(f\"{self.name} drinking...\")\n",
    "        self.ndrinks += 1\n",
    "        self.wait = 2\n",
    "    def throw(self):\n",
    "        if self.stat_msg: print(f\"{self.name} throwing... \", end=\"\")\n",
    "        self.tries += 1\n",
    "        success = (np.random.random() < self.precision)\n",
    "        if self.stat_msg:\n",
    "            if success:\n",
    "                print(\"success!\")\n",
    "            else:\n",
    "                print(\"no success!\")\n",
    "        return success\n",
    "    def time_step(self):\n",
    "        if self.num_balls == 1:\n",
    "            if not self.wait:\n",
    "                success = self.throw()\n",
    "                if success:\n",
    "                    if self.left_neighbour.num_balls > 0:\n",
    "                        # left neighbour has a ball, catch him/her!\n",
    "                        self.left_neighbour.getting_ball()\n",
    "                        self.num_balls -= 1\n",
    "                        if self.stat_msg: print(f\"{self.name} caught {self.left_neighbour.name}!\")\n",
    "                    else:\n",
    "                        # just move to the left neighbour\n",
    "                        self.left_neighbour.getting_ball()\n",
    "                        self.num_balls -= 1\n",
    "                        if self.stat_msg: print(f\"moving from {self.name} to {self.left_neighbour.name}!\")\n",
    "        elif self.num_balls == 2:\n",
    "            # drink, keep one ball, pass on the other\n",
    "            self.drink()\n",
    "            self.left_neighbour.getting_ball()\n",
    "            self.num_balls -= 1\n",
    "        if self.wait: self.wait -= 1"
   ]
  },
  {
   "cell_type": "code",
   "execution_count": null,
   "metadata": {},
   "outputs": [],
   "source": [
    "class table():\n",
    "    def __init__(self, num_players, min_prec=0.1, max_prec=1,\n",
    "                 min_speed=0.2, max_speed=1, ndrinks = 20,\n",
    "                 stat_msg=True):\n",
    "        self.players = []\n",
    "        self.ndrinks = ndrinks\n",
    "        self.stat_msg = stat_msg\n",
    "        # initialize the players\n",
    "        for ii in range(num_players):\n",
    "            self.players.append(player(f\"p{ii}\", \n",
    "                    precision=np.random.random() * (max_prec-min_prec) + min_prec ,\n",
    "                    speed=np.random.random() * (max_speed-min_speed) + min_speed,\n",
    "                    stat_msg=stat_msg))\n",
    "        # arrange them around the table by defining the left neighbour of each player\n",
    "        for ii, pl in enumerate(self.players[:-1]):\n",
    "            pl.left_neighbour = self.players[ii+1]\n",
    "        # and for the last one, to close the loop:\n",
    "        self.players[-1].left_neighbour = self.players[0]\n",
    "        # initialize the starting position of the two balls:\n",
    "        index_1 = 0\n",
    "        index_2 = int(len(self.players)/2)\n",
    "        self.players[index_1].num_balls = 1\n",
    "        self.players[index_2].num_balls = 1\n",
    "    def print_info(self):\n",
    "        for pl in self.players:\n",
    "            pl.print_info()\n",
    "    def time_step(self):\n",
    "        for pl in self.players:\n",
    "            pl.time_step()\n",
    "    def run_game(self, nsteps=20):\n",
    "        for ii in range(nsteps):\n",
    "            if self.stat_msg: print(f\"time step {ii}\")\n",
    "            if self.ndrinks > 0:\n",
    "                self.time_step()\n",
    "            else:\n",
    "                break"
   ]
  },
  {
   "cell_type": "code",
   "execution_count": null,
   "metadata": {},
   "outputs": [],
   "source": [
    "# Überprüfen der Funktionalitöt\n",
    "tbl = table(num_players=5, stat_msg=False)\n",
    "tbl.run_game()\n",
    "tbl.players[0].drink_hist"
   ]
  },
  {
   "cell_type": "code",
   "execution_count": null,
   "metadata": {},
   "outputs": [],
   "source": []
  }
 ],
 "metadata": {
  "kernelspec": {
   "display_name": "Python 3",
   "language": "python",
   "name": "python3"
  },
  "language_info": {
   "codemirror_mode": {
    "name": "ipython",
    "version": 3
   },
   "file_extension": ".py",
   "mimetype": "text/x-python",
   "name": "python",
   "nbconvert_exporter": "python",
   "pygments_lexer": "ipython3",
   "version": "3.7.6"
  }
 },
 "nbformat": 4,
 "nbformat_minor": 4
}
