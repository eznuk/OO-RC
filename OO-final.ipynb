{
 "cells": [
  {
   "cell_type": "code",
   "execution_count": 1,
   "metadata": {},
   "outputs": [],
   "source": [
    "import numpy as np\n",
    "import matplotlib.pyplot as plt"
   ]
  },
  {
   "cell_type": "code",
   "execution_count": 88,
   "metadata": {},
   "outputs": [],
   "source": [
    "class player():\n",
    "    def __init__(self, name, precision, speed, stat_msg, table):\n",
    "        self.name = name\n",
    "        self.precision = precision\n",
    "        self.speed = speed\n",
    "        self.stat_msg = stat_msg\n",
    "        self.tries = 0\n",
    "        self.num_balls = 0\n",
    "        self.wait = 0\n",
    "        self.ndrinks = 0\n",
    "        self.drink_hist = []\n",
    "        self.stat_msg = stat_msg\n",
    "        self.table = table\n",
    "    def say_name(self):\n",
    "        print(f\"Ich heiße {self.name}!\")\n",
    "    def print_info(self):\n",
    "        print(f\"Ich heiße {self.name}, habe die Präzision {self.precision:.2f} \"\n",
    "              + f\"und die Geschwindigkeit {self.speed:.2f}.\")\n",
    "    def throw(self):\n",
    "        if self.stat_msg: print(f\"{self.name} throwing... \", end=\"\")\n",
    "        self.tries += 1\n",
    "        success = (np.random.random() < self.precision)\n",
    "        if self.stat_msg:\n",
    "            if success:\n",
    "                print(\"success!\")\n",
    "            else:\n",
    "                print(\"no success!\")\n",
    "        return success\n",
    "    def drink(self):\n",
    "        if self.stat_msg: print(f\"{self.name} drinking...\")\n",
    "        self.wait = 2\n",
    "        self.ndrinks += 1\n",
    "        self.table.ndrinks -= 1\n",
    "    def getting_ball(self):\n",
    "        self.num_balls += 1\n",
    "        self.wait = 1 + int(1/self.speed)\n",
    "    def find_right_of_other(self):\n",
    "        for pl in self.table.players:\n",
    "            if pl.left_neighbour.num_balls > 0:\n",
    "                if not pl.left_neighbour == self:\n",
    "                    # pl is the right neighbour of the other active player!\n",
    "                    return pl\n",
    "    def time_step(self):\n",
    "        if self.num_balls == 1:\n",
    "            if not self.wait:\n",
    "                success = self.throw()\n",
    "                if success:\n",
    "                    if self.left_neighbour.num_balls > 0:\n",
    "                        # left neighbour has a ball, catch him/her!\n",
    "                        self.left_neighbour.getting_ball()\n",
    "                        self.num_balls -= 1\n",
    "                        if self.stat_msg: print(f\"{self.name} caught {self.left_neighbour.name}!\")\n",
    "                    else:\n",
    "                        # now, differentiate between 1st and nth try:\n",
    "                        if self.tries == 1:\n",
    "                            # move to the right neighbour of the other active player.\n",
    "                            # For this, do a quick search for the player whos left neighbour\n",
    "                            # has the ball:\n",
    "                            pl = self.find_right_of_other()\n",
    "                            pl.getting_ball()\n",
    "                            self.num_balls -= 1\n",
    "                            if self.stat_msg: print(f\"First hit for {self.name}!!!\")\n",
    "                            if self.stat_msg: print(f\"moving from {self.name} to {pl.name}!\")\n",
    "                        else:\n",
    "                            # just move to the left neighbour\n",
    "                            self.left_neighbour.getting_ball()\n",
    "                            self.num_balls -= 1\n",
    "                            if self.stat_msg: print(f\"moving from {self.name} to {self.left_neighbour.name}!\")\n",
    "                else:\n",
    "                    self.wait = 1 + int(1/self.speed)\n",
    "        elif self.num_balls == 2:\n",
    "            # drink, keep one ball, pass on the other\n",
    "            self.drink()\n",
    "            self.left_neighbour.getting_ball()\n",
    "            self.num_balls -= 1\n",
    "        if self.wait: self.wait -= 1\n",
    "        self.drink_hist.append(self.ndrinks)"
   ]
  },
  {
   "cell_type": "code",
   "execution_count": 89,
   "metadata": {},
   "outputs": [],
   "source": [
    "class table():\n",
    "    def __init__(self, num_players, min_prec=0.1, max_prec=1,\n",
    "                 min_speed=0.2, max_speed=1, ndrinks = 20,\n",
    "                 stat_msg=True):\n",
    "        self.players = []\n",
    "        self.ndrinks = ndrinks\n",
    "        # initialize the players\n",
    "        for ii in range(num_players):\n",
    "            self.players.append(player(f\"p{ii}\", \n",
    "                    precision=np.random.random() * (max_prec-min_prec) + min_prec ,\n",
    "                    speed=np.random.random() * (max_speed-min_speed) + min_speed,\n",
    "                    stat_msg=stat_msg, table=self))\n",
    "        # arrange them around the table by defining the left neighbour of each player\n",
    "        for ii, pl in enumerate(self.players[:-1]):\n",
    "            pl.left_neighbour = self.players[ii+1]\n",
    "        # and for the last one, to close the loop:\n",
    "        self.players[-1].left_neighbour = self.players[0]\n",
    "        # initialize the starting position of the two balls:\n",
    "        index_1 = 0\n",
    "        index_2 = int(len(self.players)/2)\n",
    "        self.players[index_1].num_balls = 1\n",
    "        self.players[index_2].num_balls = 1\n",
    "        self.stat_msg = stat_msg\n",
    "    def print_info(self):\n",
    "        for pl in self.players:\n",
    "            pl.print_info()\n",
    "    def time_step(self):\n",
    "        for pl in self.players:\n",
    "            pl.time_step()\n",
    "    def run_game(self, nsteps=20):\n",
    "        for ii in range(nsteps):\n",
    "            if self.stat_msg: print(f\"time step {ii}\")\n",
    "            if self.ndrinks > 0:\n",
    "                self.time_step()\n",
    "            else:\n",
    "                break\n",
    "    def plot_drink_hist(self):\n",
    "        fig, ax = plt.subplots()\n",
    "        for pl in self.players:\n",
    "            ax.plot(pl.drink_hist, label=f\"{pl.name}: {pl.ndrinks} drink(s)\")\n",
    "        ax.legend()\n",
    "        ax.set_xlabel(\"time step (a.u.)\")\n",
    "        ax.set_ylabel(\"n drinks (-)\")\n",
    "        plt.tight_layout()"
   ]
  },
  {
   "cell_type": "code",
   "execution_count": 90,
   "metadata": {},
   "outputs": [
    {
     "data": {
      "image/png": "[encoded data removed]",
      "text/plain": [
       "<Figure size 432x288 with 1 Axes>"
      ]
     },
     "metadata": {
      "needs_background": "light"
     },
     "output_type": "display_data"
    }
   ],
   "source": [
    "tbl = table(5, stat_msg=False,\n",
    "            min_prec=0.9, max_prec=0.9,\n",
    "            min_speed=0.9, max_speed=0.9)\n",
    "tbl.players[0].precision = 0.1\n",
    "tbl.players[0].speed = 0.1\n",
    "tbl.run_game(1000)\n",
    "tbl.plot_drink_hist()"
   ]
  },
  {
   "cell_type": "code",
   "execution_count": null,
   "metadata": {},
   "outputs": [],
   "source": []
  }
 ],
 "metadata": {
  "kernelspec": {
   "display_name": "Python 3",
   "language": "python",
   "name": "python3"
  },
  "language_info": {
   "codemirror_mode": {
    "name": "ipython",
    "version": 3
   },
   "file_extension": ".py",
   "mimetype": "text/x-python",
   "name": "python",
   "nbconvert_exporter": "python",
   "pygments_lexer": "ipython3",
   "version": "3.7.6"
  }
 },
 "nbformat": 4,
 "nbformat_minor": 4
}
