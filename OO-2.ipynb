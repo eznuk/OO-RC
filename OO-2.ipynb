{
 "cells": [
  {
   "cell_type": "markdown",
   "metadata": {},
   "source": [
    "## Modifiziere die Klasse <code>Table</code> so, dass sie\n",
    "eine Methode <code>print_info</code> hat, die alle Infos aller Spielenden ausgibt."
   ]
  },
  {
   "cell_type": "code",
   "execution_count": null,
   "metadata": {},
   "outputs": [],
   "source": [
    "import numpy as np"
   ]
  },
  {
   "cell_type": "code",
   "execution_count": null,
   "metadata": {},
   "outputs": [],
   "source": [
    "class Player():\n",
    "    def __init__(self, name, precision, speed):\n",
    "        self.name = name\n",
    "        self.precision = precision\n",
    "        self.speed = speed\n",
    "        self.tries = 0\n",
    "    def print_info(self):\n",
    "        print(f\"Ich heiße {self.name}, habe die Präzision {self.precision:.2f} \"\n",
    "              + f\"und die Geschwindigkeit {self.speed:.2f}.\")\n",
    "    def throw(self):\n",
    "        self.tries += 1\n",
    "        success = (np.random.random() < self.precision)\n",
    "        return success"
   ]
  },
  {
   "cell_type": "code",
   "execution_count": null,
   "metadata": {},
   "outputs": [],
   "source": [
    "class Table():\n",
    "    def __init__(self, num_players, min_prec=0.1, max_prec=1,\n",
    "                 min_speed=0.2, max_speed=1, num_drinks = 20):\n",
    "        self.players = []\n",
    "        # initialize the players\n",
    "        for ii in range(num_players):\n",
    "            self.players.append(Player(f\"p{ii}\", \n",
    "                    precision=np.random.random() * (max_prec-min_prec) + min_prec ,\n",
    "                    speed=np.random.random() * (max_speed-min_speed) + min_speed))\n",
    "        # arrange them around the table by defining the left neighbour of each player\n",
    "        for ii, pl in enumerate(self.players[:-1]):\n",
    "            pl.left_neighbour = self.players[ii+1]\n",
    "        # and for the last one, to close the loop:\n",
    "        self.players[-1].left_neighbour = self.players[0]\n",
    "        # initialize the starting position of the two balls:\n",
    "        self.active_player1 = self.players[0]\n",
    "        self.active_player2 = self.players[int(len(self.players)/2)]\n",
    "        self.num_drinks = num_drinks"
   ]
  },
  {
   "cell_type": "code",
   "execution_count": null,
   "metadata": {},
   "outputs": [],
   "source": [
    "# Überprüfen der Funktionalität:\n",
    "tbl = Table(num_players=10)\n",
    "tbl.print_info()"
   ]
  }
 ],
 "metadata": {
  "kernelspec": {
   "display_name": "Python 3",
   "language": "python",
   "name": "python3"
  },
  "language_info": {
   "codemirror_mode": {
    "name": "ipython",
    "version": 3
   },
   "file_extension": ".py",
   "mimetype": "text/x-python",
   "name": "python",
   "nbconvert_exporter": "python",
   "pygments_lexer": "ipython3",
   "version": "3.7.6"
  }
 },
 "nbformat": 4,
 "nbformat_minor": 4
}
